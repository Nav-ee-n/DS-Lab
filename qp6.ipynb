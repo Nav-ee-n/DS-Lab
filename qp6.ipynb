{
 "cells": [
  {
   "cell_type": "code",
   "execution_count": 7,
   "id": "c28ec216-6e51-4506-ac40-bc8591f01219",
   "metadata": {},
   "outputs": [
    {
     "data": {
      "text/plain": [
       "array([[1, 2],\n",
       "       [3, 4]])"
      ]
     },
     "execution_count": 7,
     "metadata": {},
     "output_type": "execute_result"
    }
   ],
   "source": [
    "import numpy as np\n",
    "m1=np.array([[1,2],[3,4]])\n",
    "print(m1)"
   ]
  },
  {
   "cell_type": "code",
   "execution_count": 9,
   "id": "41e6a7a2-1cf0-464e-8d82-37a99b7daa1e",
   "metadata": {},
   "outputs": [
    {
     "data": {
      "text/plain": [
       "array([[5, 6],\n",
       "       [7, 8]])"
      ]
     },
     "execution_count": 9,
     "metadata": {},
     "output_type": "execute_result"
    }
   ],
   "source": [
    "m2=np.array([[5,6],[7,8]])\n",
    "print(m2)"
   ]
  },
  {
   "cell_type": "code",
   "execution_count": 11,
   "id": "f4100902-be97-4eab-ae44-19575b5099bc",
   "metadata": {},
   "outputs": [
    {
     "name": "stdout",
     "output_type": "stream",
     "text": [
      "[[-4.   3. ]\n",
      " [ 3.5 -2.5]]\n"
     ]
    }
   ],
   "source": [
    "a=np.linalg.inv(m2)\n",
    "print(a)"
   ]
  },
  {
   "cell_type": "code",
   "execution_count": 19,
   "id": "dbfa10a4-4f01-4da5-a507-e70fb152baac",
   "metadata": {},
   "outputs": [
    {
     "name": "stdout",
     "output_type": "stream",
     "text": [
      "[[23 34]\n",
      " [31 46]]\n"
     ]
    }
   ],
   "source": [
    "a=np.dot(m2,m1)\n",
    "print(a)"
   ]
  },
  {
   "cell_type": "code",
   "execution_count": 29,
   "id": "f0b278ad-3718-4fec-965d-92066fb571fe",
   "metadata": {},
   "outputs": [
    {
     "name": "stdout",
     "output_type": "stream",
     "text": [
      "[[1 3]\n",
      " [2 4]]\n"
     ]
    }
   ],
   "source": [
    "a=np.transpose(m1)\n",
    "print(a)"
   ]
  },
  {
   "cell_type": "code",
   "execution_count": 33,
   "id": "354d8ec3-898f-4362-a407-5943a3f3f4a8",
   "metadata": {},
   "outputs": [
    {
     "name": "stdout",
     "output_type": "stream",
     "text": [
      "[1 2 3 4]\n"
     ]
    }
   ],
   "source": [
    "b=m1.flatten()\n",
    "print(b)"
   ]
  },
  {
   "cell_type": "code",
   "execution_count": 35,
   "id": "720c757e-fa0c-4fd9-a20a-524c25d61b9e",
   "metadata": {},
   "outputs": [
    {
     "name": "stdin",
     "output_type": "stream",
     "text": [
      " 1\n",
      " 2\n",
      " 3\n",
      " 3\n"
     ]
    },
    {
     "name": "stdout",
     "output_type": "stream",
     "text": [
      "[[1, 2], [3, 3]]\n"
     ]
    }
   ],
   "source": [
    "#read matrix from user\n",
    "matrix=[]\n",
    "for i in range(2):\n",
    "    row=[]\n",
    "    for j in range(2):\n",
    "        a=int(input())\n",
    "        row.append(a)\n",
    "    matrix.append(row)\n",
    "print(matrix)\n"
   ]
  },
  {
   "cell_type": "code",
   "execution_count": 39,
   "id": "38192198-b425-4215-b391-2a4602033050",
   "metadata": {},
   "outputs": [
    {
     "name": "stdout",
     "output_type": "stream",
     "text": [
      "[[1 3]\n",
      " [2 3]]\n"
     ]
    }
   ],
   "source": [
    "c=np.transpose(matrix)\n",
    "print (c)"
   ]
  },
  {
   "cell_type": "code",
   "execution_count": 43,
   "id": "946a648e-5d9e-4e6b-b406-ff6609c94d34",
   "metadata": {},
   "outputs": [
    {
     "name": "stdin",
     "output_type": "stream",
     "text": [
      "Enter the no rows :  2\n",
      "Enter the no of columns : 2\n",
      "Enter elements :  1\n",
      "Enter elements :  2\n",
      "Enter elements :  3\n",
      "Enter elements :  4\n"
     ]
    },
    {
     "name": "stdout",
     "output_type": "stream",
     "text": [
      "[[1, 2], [3, 4]]\n"
     ]
    }
   ],
   "source": [
    "#read rows and columns from user\n",
    "matrix1=[]\n",
    "a1=int(input(\"Enter the no rows : \"))\n",
    "b1=int(input(\"Enter the no of columns :\"))\n",
    "for i in range(a1):\n",
    "    row=[]\n",
    "    for j in range(b1):\n",
    "        c1=int(input(\"Enter elements : \"))\n",
    "        row.append(c1)\n",
    "    matrix1.append(row)\n",
    "print(matrix1)"
   ]
  },
  {
   "cell_type": "code",
   "execution_count": 49,
   "id": "d5779214-03bc-4242-9a72-1cafe8761023",
   "metadata": {},
   "outputs": [
    {
     "name": "stdin",
     "output_type": "stream",
     "text": [
      "Enter the no rows :  2\n",
      "Enter the no of columns : 2\n",
      " 1 2 3 4\n"
     ]
    },
    {
     "name": "stdout",
     "output_type": "stream",
     "text": [
      "[[1 2]\n",
      " [3 4]]\n"
     ]
    }
   ],
   "source": [
    "#another way to create a matrix\n",
    "matrix2=[]\n",
    "a2=int(input(\"Enter the no rows : \"))\n",
    "b2=int(input(\"Enter the no of columns :\"))\n",
    "a=list(map(int,input().split()))\n",
    "matrix2=np.array(a).reshape(a2,b2)\n",
    "print(matrix2)"
   ]
  },
  {
   "cell_type": "code",
   "execution_count": null,
   "id": "495029fa-a50d-45b8-b9dc-ca47030734e3",
   "metadata": {},
   "outputs": [],
   "source": []
  }
 ],
 "metadata": {
  "kernelspec": {
   "display_name": "Python 3 (ipykernel)",
   "language": "python",
   "name": "python3"
  },
  "language_info": {
   "codemirror_mode": {
    "name": "ipython",
    "version": 3
   },
   "file_extension": ".py",
   "mimetype": "text/x-python",
   "name": "python",
   "nbconvert_exporter": "python",
   "pygments_lexer": "ipython3",
   "version": "3.12.4"
  }
 },
 "nbformat": 4,
 "nbformat_minor": 5
}
