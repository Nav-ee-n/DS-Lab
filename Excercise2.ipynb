{
 "cells": [
  {
   "cell_type": "code",
   "execution_count": 9,
   "id": "0aa33d21-57ef-4870-910a-8766050a01c6",
   "metadata": {},
   "outputs": [
    {
     "name": "stdin",
     "output_type": "stream",
     "text": [
      "Enter the no rows :  2\n",
      "Enter the no of columns : 2\n",
      "Enter elements :  1\n",
      "Enter elements :  2\n",
      "Enter elements :  3\n",
      "Enter elements :  4\n"
     ]
    },
    {
     "name": "stdout",
     "output_type": "stream",
     "text": [
      "[[1, 2], [3, 4]]\n"
     ]
    },
    {
     "name": "stdin",
     "output_type": "stream",
     "text": [
      "Enter the no rows :  2\n",
      "Enter the no of columns : 2\n",
      "Enter elements :  5\n",
      "Enter elements :  6\n",
      "Enter elements :  7\n",
      "Enter elements :  8\n"
     ]
    },
    {
     "name": "stdout",
     "output_type": "stream",
     "text": [
      "[[5, 6], [7, 8]]\n"
     ]
    }
   ],
   "source": [
    "import numpy as np\n",
    "#read rows and columns from user\n",
    "matrix1=[]\n",
    "matrix2=[]\n",
    "print(\"First array\")\n",
    "a1=int(input(\"Enter the no rows : \"))\n",
    "b1=int(input(\"Enter the no of columns :\"))\n",
    "for i in range(a1):\n",
    "    row=[]\n",
    "    for j in range(b1):\n",
    "        c1=int(input(\"Enter elements : \"))\n",
    "        row.append(c1)\n",
    "    matrix1.append(row)\n",
    "print(matrix1)\n",
    "print(\"Second array\")\n",
    "a2=int(input(\"Enter the no rows : \"))\n",
    "b2=int(input(\"Enter the no of columns :\"))\n",
    "for i in range(a2):\n",
    "    row=[]\n",
    "    for j in range(b2):\n",
    "        c2=int(input(\"Enter elements : \"))\n",
    "        row.append(c2)\n",
    "    matrix2.append(row)\n",
    "print(matrix2)"
   ]
  },
  {
   "cell_type": "code",
   "execution_count": 11,
   "id": "0832f24e-f8cb-4562-ad95-f0f52b1fcbd9",
   "metadata": {},
   "outputs": [
    {
     "name": "stdout",
     "output_type": "stream",
     "text": [
      "[[19 22]\n",
      " [43 50]]\n"
     ]
    }
   ],
   "source": [
    "#Multiplication of a matrix\n",
    "a=np.dot(matrix1,matrix2)\n",
    "print(a)"
   ]
  },
  {
   "cell_type": "code",
   "execution_count": 13,
   "id": "8372d1f9-c1c2-46b2-8ae5-a3ffd7b86667",
   "metadata": {},
   "outputs": [
    {
     "name": "stdout",
     "output_type": "stream",
     "text": [
      "[[1, 2], [3, 4]]\n",
      "[[5, 6], [7, 8]]\n"
     ]
    }
   ],
   "source": [
    "#Transpose of a matrix\n",
    "b=np.transpose(matrix1)\n",
    "print(matrix1)\n",
    "c=np.transpose(matrix2)\n",
    "print(matrix2)"
   ]
  },
  {
   "cell_type": "code",
   "execution_count": 17,
   "id": "2f76d260-b507-441d-b899-d993aa831dfe",
   "metadata": {},
   "outputs": [
    {
     "name": "stdout",
     "output_type": "stream",
     "text": [
      "-2.0000000000000004\n",
      "-1.999999999999999\n"
     ]
    }
   ],
   "source": [
    "#Determinant of a Matrix\n",
    "d1=np.linalg.det(matrix1)\n",
    "print(d1)\n",
    "d2=np.linalg.det(matrix2)\n",
    "print(d2)"
   ]
  },
  {
   "cell_type": "code",
   "execution_count": 25,
   "id": "b075fb6e-ab68-4a97-b630-278abed14c14",
   "metadata": {},
   "outputs": [
    {
     "name": "stdout",
     "output_type": "stream",
     "text": [
      "[[-2.   1. ]\n",
      " [ 1.5 -0.5]]\n",
      "[[-4.   3. ]\n",
      " [ 3.5 -2.5]]\n"
     ]
    }
   ],
   "source": [
    "#Inverse of a matrix\n",
    "i1=np.linalg.inv(matrix1)\n",
    "print(i1)\n",
    "i2=np.linalg.inv(matrix2)\n",
    "print(i2)"
   ]
  },
  {
   "cell_type": "code",
   "execution_count": 23,
   "id": "8b8c5af0-279a-4c88-ace2-df38ab14abd2",
   "metadata": {},
   "outputs": [
    {
     "name": "stdout",
     "output_type": "stream",
     "text": [
      "5\n",
      "13\n"
     ]
    }
   ],
   "source": [
    "#Trace of a matrix\n",
    "t1=np.trace(matrix1)\n",
    "print(t1)\n",
    "t2=np.trace(matrix2)\n",
    "print(t2)"
   ]
  },
  {
   "cell_type": "code",
   "execution_count": 29,
   "id": "b633875e-3807-4d2d-bf60-8bcbc5755f15",
   "metadata": {},
   "outputs": [
    {
     "name": "stdout",
     "output_type": "stream",
     "text": [
      "2\n",
      "2\n"
     ]
    }
   ],
   "source": [
    "#Rank of a matrix\n",
    "r1=np.linalg.matrix_rank(matrix1)\n",
    "print(r1)\n",
    "r2=np.linalg.matrix_rank(matrix2)\n",
    "print(r2)"
   ]
  },
  {
   "cell_type": "code",
   "execution_count": 33,
   "id": "0b9fe0d0-2082-4d9e-b14d-788d711c8918",
   "metadata": {},
   "outputs": [
    {
     "name": "stdout",
     "output_type": "stream",
     "text": [
      "EigResult(eigenvalues=array([-0.37228132,  5.37228132]), eigenvectors=array([[-0.82456484, -0.41597356],\n",
      "       [ 0.56576746, -0.90937671]]))\n",
      "EigResult(eigenvalues=array([-0.15206735, 13.15206735]), eigenvectors=array([[-0.75868086, -0.59276441],\n",
      "       [ 0.65146248, -0.80537591]]))\n"
     ]
    }
   ],
   "source": [
    "#Eigen values\n",
    "e1=np.linalg.eig(matrix1)\n",
    "print(e1)\n",
    "e2=np.linalg.eig(matrix2)\n",
    "print(e2)"
   ]
  },
  {
   "cell_type": "code",
   "execution_count": null,
   "id": "d9bf4a16-1a2c-42ae-90ab-9022d7897247",
   "metadata": {},
   "outputs": [],
   "source": []
  }
 ],
 "metadata": {
  "kernelspec": {
   "display_name": "Python 3 (ipykernel)",
   "language": "python",
   "name": "python3"
  },
  "language_info": {
   "codemirror_mode": {
    "name": "ipython",
    "version": 3
   },
   "file_extension": ".py",
   "mimetype": "text/x-python",
   "name": "python",
   "nbconvert_exporter": "python",
   "pygments_lexer": "ipython3",
   "version": "3.12.4"
  }
 },
 "nbformat": 4,
 "nbformat_minor": 5
}
