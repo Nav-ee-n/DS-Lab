{
 "cells": [
  {
   "cell_type": "code",
   "execution_count": 56,
   "id": "4244ce2e-d1e1-48db-9184-a4829c591b67",
   "metadata": {},
   "outputs": [
    {
     "name": "stdout",
     "output_type": "stream",
     "text": [
      "[1 2 3 5]\n",
      "[[1 2 5 4]\n",
      " [1 3 4 3]\n",
      " [6 7 8 7]]\n"
     ]
    }
   ],
   "source": [
    "import numpy as np\n",
    "a=np.array([1,2,3,5])\n",
    "print (a)\n",
    "b=np.array([[1,2,5,4],[1,3,4,3],[6,7,8,7]])\n",
    "print (b)\n"
   ]
  },
  {
   "cell_type": "code",
   "execution_count": 28,
   "id": "f69ee475-0deb-43f9-9c00-5fa472dac566",
   "metadata": {},
   "outputs": [
    {
     "name": "stdout",
     "output_type": "stream",
     "text": [
      "(3, 3)\n"
     ]
    }
   ],
   "source": [
    "print (b.shape)\n"
   ]
  },
  {
   "cell_type": "code",
   "execution_count": 30,
   "id": "73aac067-2926-40c7-a929-94eec03a0d05",
   "metadata": {},
   "outputs": [
    {
     "name": "stdout",
     "output_type": "stream",
     "text": [
      "(3,)\n"
     ]
    }
   ],
   "source": [
    "print (a.shape)\n"
   ]
  },
  {
   "cell_type": "code",
   "execution_count": 46,
   "id": "1826da70-27b7-47e7-9519-ba17070fdb7f",
   "metadata": {},
   "outputs": [
    {
     "name": "stdout",
     "output_type": "stream",
     "text": [
      "[[1 2 5]\n",
      " [4 1 3]\n",
      " [4 3 6]\n",
      " [7 8 7]]\n"
     ]
    }
   ],
   "source": [
    "c=b.reshape(4,3)\n",
    "print(c)"
   ]
  },
  {
   "cell_type": "code",
   "execution_count": 52,
   "id": "eb0b25c1-7ba8-4d83-9553-4e4c4ba4d4ce",
   "metadata": {},
   "outputs": [
    {
     "name": "stdout",
     "output_type": "stream",
     "text": [
      "[[1 2]\n",
      " [5 4]\n",
      " [1 3]\n",
      " [4 3]\n",
      " [6 7]\n",
      " [8 7]]\n"
     ]
    }
   ],
   "source": [
    "b.shape=(6,2)\n",
    "print (b)"
   ]
  },
  {
   "cell_type": "code",
   "execution_count": 58,
   "id": "6384a00d-3ae8-4d76-bba1-8ef391c3a37b",
   "metadata": {},
   "outputs": [
    {
     "name": "stdout",
     "output_type": "stream",
     "text": [
      "[[1 2]\n",
      " [3 5]]\n"
     ]
    }
   ],
   "source": [
    "a.shape=(2,2)\n",
    "print (a)"
   ]
  },
  {
   "cell_type": "code",
   "execution_count": 60,
   "id": "7e36d918-8bf5-4c44-9b97-3187ada077e6",
   "metadata": {},
   "outputs": [
    {
     "name": "stdout",
     "output_type": "stream",
     "text": [
      "[0 1 2 3 4 5 6 7 8 9]\n"
     ]
    }
   ],
   "source": [
    "x=np.arange(10)\n",
    "print (x)"
   ]
  },
  {
   "cell_type": "code",
   "execution_count": 64,
   "id": "3c2800cd-367b-41a6-94a1-cd35c0a09ba2",
   "metadata": {},
   "outputs": [
    {
     "name": "stdout",
     "output_type": "stream",
     "text": [
      "[ 1.  3.  5.  7.  9. 11. 13. 15. 17. 19. 21. 23.]\n"
     ]
    }
   ],
   "source": [
    "y=np.arange(1,24,2,dtype=float)\n",
    "print (y)"
   ]
  },
  {
   "cell_type": "code",
   "execution_count": 66,
   "id": "8421ccd6-c652-4ca1-9abf-4170b39e99a3",
   "metadata": {},
   "outputs": [
    {
     "name": "stdout",
     "output_type": "stream",
     "text": [
      "[1 2]\n"
     ]
    }
   ],
   "source": [
    "print (a[0])"
   ]
  },
  {
   "cell_type": "code",
   "execution_count": 78,
   "id": "af14fdee-d93e-424f-a57a-ce2557d7f58c",
   "metadata": {},
   "outputs": [
    {
     "name": "stdout",
     "output_type": "stream",
     "text": [
      "[ True  True False False False]\n",
      "[False False  True False False]\n",
      "[False False  True  True  True]\n",
      "[ True  True False  True  True]\n",
      "[False False False  True  True]\n",
      "[ True  True  True False False]\n"
     ]
    }
   ],
   "source": [
    "q=np.array([1,2,3,4,5])\n",
    "s=np.array([2,3,1,4,5])\n",
    "print(np.less(q,s))\n",
    "print(np.greater(q,s))\n",
    "print(np.greater_equal(q,s))\n",
    "print(np.less_equal(q,s))\n",
    "print(np.equal(q,s))\n",
    "print(np.not_equal(q,s))\n"
   ]
  },
  {
   "cell_type": "code",
   "execution_count": 80,
   "id": "c7bdeaab-4202-4f29-a4e2-bf086a8b2d88",
   "metadata": {},
   "outputs": [
    {
     "name": "stdout",
     "output_type": "stream",
     "text": [
      "[50 52 54 56 58 60 62 64 66 68 70 72 74 76 78 80 82 84 86 88 90]\n"
     ]
    }
   ],
   "source": [
    "e=np.arange(50,91,2)\n",
    "print(e)"
   ]
  },
  {
   "cell_type": "code",
   "execution_count": 84,
   "id": "27f22b52-6577-4fbf-8298-3bc0f0628cf1",
   "metadata": {},
   "outputs": [
    {
     "name": "stdout",
     "output_type": "stream",
     "text": [
      "[[1. 0. 0. 0.]\n",
      " [0. 1. 0. 0.]\n",
      " [0. 0. 1. 0.]\n",
      " [0. 0. 0. 1.]]\n"
     ]
    }
   ],
   "source": [
    "k=np.identity(4)\n",
    "print(k)"
   ]
  },
  {
   "cell_type": "code",
   "execution_count": 94,
   "id": "fbffd3a5-7d2e-4598-960f-e2db9392155c",
   "metadata": {},
   "outputs": [
    {
     "name": "stdout",
     "output_type": "stream",
     "text": [
      "[[1 0 0 0 0]\n",
      " [0 2 0 0 0]\n",
      " [0 0 3 0 0]\n",
      " [0 0 0 4 0]\n",
      " [0 0 0 0 5]]\n"
     ]
    }
   ],
   "source": [
    "p=np.diag([1,2,3,4,5])\n",
    "print(p)"
   ]
  },
  {
   "cell_type": "code",
   "execution_count": 102,
   "id": "5a7f41c9-a97a-4405-bfe4-6b4674d587fa",
   "metadata": {},
   "outputs": [
    {
     "name": "stdout",
     "output_type": "stream",
     "text": [
      "[[1.+0.j 0.+0.j 0.+0.j]\n",
      " [0.+0.j 1.+0.j 0.+0.j]\n",
      " [0.+0.j 0.+0.j 1.+0.j]]\n"
     ]
    }
   ],
   "source": [
    "arr = np.identity(3, dtype=complex,)\n",
    "print(arr)"
   ]
  },
  {
   "cell_type": "code",
   "execution_count": null,
   "id": "fe799e86-1cba-482d-ac3b-f6276b37cb2c",
   "metadata": {},
   "outputs": [],
   "source": []
  }
 ],
 "metadata": {
  "kernelspec": {
   "display_name": "Python 3 (ipykernel)",
   "language": "python",
   "name": "python3"
  },
  "language_info": {
   "codemirror_mode": {
    "name": "ipython",
    "version": 3
   },
   "file_extension": ".py",
   "mimetype": "text/x-python",
   "name": "python",
   "nbconvert_exporter": "python",
   "pygments_lexer": "ipython3",
   "version": "3.12.4"
  }
 },
 "nbformat": 4,
 "nbformat_minor": 5
}
