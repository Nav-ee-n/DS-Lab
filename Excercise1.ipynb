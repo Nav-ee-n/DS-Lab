{
 "cells": [
  {
   "cell_type": "code",
   "execution_count": 16,
   "id": "8cff41ca-acb1-48ae-b595-58d7688e3c5e",
   "metadata": {},
   "outputs": [
    {
     "name": "stdout",
     "output_type": "stream",
     "text": [
      "Original\n",
      "[ 0  1  2  3  4  5  6  7  8  9 10 11 12 13 14 15 16 17 18 19 20]\n",
      "New\n",
      "[  0   1   2   3   4   5   6   7   8  -9 -10 -11 -12 -13 -14  15  16  17\n",
      "  18  19  20]\n"
     ]
    }
   ],
   "source": [
    "#Excercise 1\n",
    "#QP 1\n",
    "#Write a numpy program to create a vector with values from 0 to 20 and change the sign of the numbers in the range from 9 to 15\n",
    "\n",
    "import numpy as np\n",
    "a=np.arange(0,21)\n",
    "print(\"Original\")\n",
    "print(a)\n",
    "print(\"New\")\n",
    "matrix1=[]\n",
    "for i in range(9,15):\n",
    "    if i >= 9 & i<=15:\n",
    "        a[i]=-a[i]\n",
    "print(a)\n"
   ]
  },
  {
   "cell_type": "code",
   "execution_count": 28,
   "id": "b67a5a22-ed3e-43a7-b0b9-362c5207120f",
   "metadata": {},
   "outputs": [
    {
     "name": "stdout",
     "output_type": "stream",
     "text": [
      "Array:\n",
      "[[1 2 3]\n",
      " [4 5 6]\n",
      " [7 8 9]]\n",
      "\n",
      "Sum of all elements:\n",
      "45\n",
      "\n",
      "Sum of each column:\n",
      "[12 15 18]\n",
      "\n",
      "Sum of each row:\n",
      "[ 6 15 24]\n"
     ]
    }
   ],
   "source": [
    "#QP 2\n",
    "#Write a numpy program to compute sum of all elements, sum of each column and sum of each row of a given array\n",
    "\n",
    "import numpy as np\n",
    "\n",
    "# Define a 2D array (matrix)\n",
    "array = np.array([[1, 2, 3],\n",
    "                  [4, 5, 6],\n",
    "                  [7, 8, 9]])\n",
    "\n",
    "# Compute the sum of all elements\n",
    "total_sum = np.sum(array)\n",
    "\n",
    "# Compute the sum of each column\n",
    "column_sum = np.sum(array, axis=0)\n",
    "\n",
    "# Compute the sum of each row\n",
    "row_sum = np.sum(array, axis=1)\n",
    "\n",
    "# Print the results\n",
    "print(\"Array:\")\n",
    "print(array)\n",
    "\n",
    "print(\"\\nSum of all elements:\")\n",
    "print(total_sum)\n",
    "\n",
    "print(\"\\nSum of each column:\")\n",
    "print(column_sum)\n",
    "\n",
    "print(\"\\nSum of each row:\")\n",
    "print(row_sum)"
   ]
  },
  {
   "cell_type": "code",
   "execution_count": 36,
   "id": "9747f094-ab27-4520-87dc-62d082677262",
   "metadata": {},
   "outputs": [
    {
     "name": "stdout",
     "output_type": "stream",
     "text": [
      "[0 1 2 3 4 5 6 7 8 9]\n"
     ]
    }
   ],
   "source": [
    "#Q 3\n",
    "#Write a numpy program to save a given array to a text file and load it\n",
    "\n",
    "f1=np.arange(10)\n",
    "np.savetxt('newarray.txt',f1,fmt='%d')\n",
    "ar=np.loadtxt('newarray.txt',dtype=int)\n",
    "print(ar)"
   ]
  },
  {
   "cell_type": "code",
   "execution_count": 46,
   "id": "c19800eb-33bc-4b88-868e-27cedf56b99f",
   "metadata": {},
   "outputs": [
    {
     "name": "stdout",
     "output_type": "stream",
     "text": [
      "No\n"
     ]
    }
   ],
   "source": [
    "#Q 4\n",
    "#Write a numpy program to check whether two arrays are equal or not\n",
    "\n",
    "array1=np.array([1,2,3])\n",
    "array2=np.array([3,2,1])\n",
    "\n",
    "e=np.array_equal(array1,array2)\n",
    "if e:\n",
    "    print(\"Yes\")\n",
    "else:\n",
    "    print(\"No\")"
   ]
  },
  {
   "cell_type": "code",
   "execution_count": 48,
   "id": "a256da90-3d43-47cb-b83e-62aa3e451ff4",
   "metadata": {},
   "outputs": [
    {
     "name": "stdout",
     "output_type": "stream",
     "text": [
      "Array\n",
      "[[0.99902012 0.41996354 0.17999862 0.09279124]\n",
      " [0.05374882 0.08080988 0.46458884 0.63369908]\n",
      " [0.53570851 0.90386502 0.34093826 0.35307574]\n",
      " [0.0978626  0.3481367  0.75426284 0.8766061 ]]\n",
      "New\n",
      "[[0.0978626  0.3481367  0.75426284 0.8766061 ]\n",
      " [0.05374882 0.08080988 0.46458884 0.63369908]\n",
      " [0.53570851 0.90386502 0.34093826 0.35307574]\n",
      " [0.99902012 0.41996354 0.17999862 0.09279124]]\n"
     ]
    }
   ],
   "source": [
    "#Q 5\n",
    "#Write a numpy program to create a 4x4 array with random values, create a new array from the said array by swapping first and last rows\n",
    "\n",
    "array=np.random.rand(4,4)\n",
    "print(\"Array\")\n",
    "print(array)\n",
    "\n",
    "swap_array=array[[3,1,2,0],:]\n",
    "print(\"New\")\n",
    "print(swap_array)"
   ]
  },
  {
   "cell_type": "code",
   "execution_count": 62,
   "id": "2d10ffc2-3426-4e35-8857-6edf0ee85ce7",
   "metadata": {},
   "outputs": [
    {
     "name": "stdout",
     "output_type": "stream",
     "text": [
      "First array\n",
      "[[1 2 3 4]\n",
      " [5 6 7 8]]\n",
      "\n",
      "Second array\n",
      "[[ 9 10 11 12]\n",
      " [13 14 15 16]]\n",
      "\n",
      "Result\n",
      "[[  9  20  33  48]\n",
      " [ 65  84 105 128]]\n"
     ]
    }
   ],
   "source": [
    "#Q 6\n",
    "#Numpy program to multiply two given arrays of same size, element by element\n",
    "arr1=np.array([[1,2,3,4],[5,6,7,8]])\n",
    "print(\"First array\")\n",
    "print(arr1)\n",
    "arr2=np.array([[9,10,11,12],[13,14,15,16]])\n",
    "print(\"\\nSecond array\")\n",
    "print(arr2)\n",
    "\n",
    "ans=np.multiply(arr1,arr2)\n",
    "print(\"\\nResult\")\n",
    "print(ans)"
   ]
  }
 ],
 "metadata": {
  "kernelspec": {
   "display_name": "Python 3 (ipykernel)",
   "language": "python",
   "name": "python3"
  },
  "language_info": {
   "codemirror_mode": {
    "name": "ipython",
    "version": 3
   },
   "file_extension": ".py",
   "mimetype": "text/x-python",
   "name": "python",
   "nbconvert_exporter": "python",
   "pygments_lexer": "ipython3",
   "version": "3.12.4"
  }
 },
 "nbformat": 4,
 "nbformat_minor": 5
}
